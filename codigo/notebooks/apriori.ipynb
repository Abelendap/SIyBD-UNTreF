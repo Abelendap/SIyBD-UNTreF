{
  "nbformat": 4,
  "nbformat_minor": 0,
  "metadata": {
    "colab": {
      "provenance": [],
      "authorship_tag": "ABX9TyOS+Hir+g1Bktx7lhNAN7so",
      "include_colab_link": true
    },
    "kernelspec": {
      "name": "python3",
      "display_name": "Python 3"
    },
    "language_info": {
      "name": "python"
    }
  },
  "cells": [
    {
      "cell_type": "markdown",
      "metadata": {
        "id": "view-in-github",
        "colab_type": "text"
      },
      "source": [
        "<a href=\"https://colab.research.google.com/github/jumafernandez/SIyBD-UNTreF/blob/main/codigo/notebooks/apriori.ipynb\" target=\"_parent\"><img src=\"https://colab.research.google.com/assets/colab-badge.svg\" alt=\"Open In Colab\"/></a>"
      ]
    },
    {
      "cell_type": "markdown",
      "source": [
        "# Reglas de asociación: Algoritmo apriori\n",
        "\n",
        "En esta notebook, compartimos una notebook con la generación de reglas a través del algoritmo *apriori* para el dataset `Groceries`.\n"
      ],
      "metadata": {
        "id": "LQn0jYI7D2TR"
      }
    },
    {
      "cell_type": "markdown",
      "source": [
        "En primer lugar, se cargan las librerías necesarias y el dataset desde el repositorio de *Github*:"
      ],
      "metadata": {
        "id": "WC993IHcEMIc"
      }
    },
    {
      "cell_type": "code",
      "source": [
        "import pandas as pd\n",
        "from mlxtend.frequent_patterns import apriori, association_rules\n",
        "import matplotlib.pyplot as plt\n",
        "import seaborn as sns\n",
        "\n",
        "import warnings\n",
        "warnings.filterwarnings(\"ignore\", category=DeprecationWarning)\n"
      ],
      "metadata": {
        "id": "m13DJ6NND1P5"
      },
      "execution_count": null,
      "outputs": []
    },
    {
      "cell_type": "code",
      "execution_count": 2,
      "metadata": {
        "id": "tCinnUKaDv4e",
        "colab": {
          "base_uri": "https://localhost:8080/"
        },
        "outputId": "13b13cb5-7732-4c45-a1d3-46063a97a185"
      },
      "outputs": [
        {
          "output_type": "stream",
          "name": "stdout",
          "text": [
            "   Member_number        Date   itemDescription\n",
            "0           1808  21-07-2015    tropical fruit\n",
            "1           2552  05-01-2015        whole milk\n",
            "2           2300  19-09-2015         pip fruit\n",
            "3           1187  12-12-2015  other vegetables\n",
            "4           3037  01-02-2015        whole milk\n"
          ]
        },
        {
          "output_type": "stream",
          "name": "stderr",
          "text": [
            "/usr/local/lib/python3.10/dist-packages/ipykernel/ipkernel.py:283: DeprecationWarning: `should_run_async` will not call `transform_cell` automatically in the future. Please pass the result to `transformed_cell` argument and any exception that happen during thetransform in `preprocessing_exc_tuple` in IPython 7.17 and above.\n",
            "  def _forward_input(self, allow_stdin=False):\n"
          ]
        }
      ],
      "source": [
        "# Cargar el dataset desde el archivo CSV descargado de Kaggle\n",
        "groceries = pd.read_csv('https://raw.githubusercontent.com/jumafernandez/SIyBD-UNTreF/main/data/groceries_dataset.csv')\n",
        "\n",
        "# Ver las primeras filas para entender el formato del dataset\n",
        "print(groceries.head())"
      ]
    },
    {
      "cell_type": "markdown",
      "source": [
        "Aplicamos transformaciones en los datos para que nos quede una instancia por transacción y un producto por columna:"
      ],
      "metadata": {
        "id": "KGMahdegGWnu"
      }
    },
    {
      "cell_type": "code",
      "source": [
        "# Agrupar los datos por 'Member_number' y 'itemDescription' y transformarlo a formato one-hot encoding\n",
        "groceries_encoded = groceries.groupby(['Member_number', 'itemDescription']).size().unstack(fill_value=0)\n",
        "groceries_encoded = groceries_encoded.map(lambda x: 1 if x > 0 else 0)\n",
        "\n",
        "# Verificar el resultado del one-hot encoding\n",
        "print(groceries_encoded.head())"
      ],
      "metadata": {
        "colab": {
          "base_uri": "https://localhost:8080/"
        },
        "id": "GQYUf1TNGZ0_",
        "outputId": "748cbef9-1f4a-4e61-c9a6-a3db871f6904"
      },
      "execution_count": 3,
      "outputs": [
        {
          "output_type": "stream",
          "name": "stderr",
          "text": [
            "/usr/local/lib/python3.10/dist-packages/ipykernel/ipkernel.py:283: DeprecationWarning: `should_run_async` will not call `transform_cell` automatically in the future. Please pass the result to `transformed_cell` argument and any exception that happen during thetransform in `preprocessing_exc_tuple` in IPython 7.17 and above.\n",
            "  def _forward_input(self, allow_stdin=False):\n"
          ]
        },
        {
          "output_type": "stream",
          "name": "stdout",
          "text": [
            "itemDescription  Instant food products  UHT-milk  abrasive cleaner  \\\n",
            "Member_number                                                        \n",
            "1000                                 0         0                 0   \n",
            "1001                                 0         0                 0   \n",
            "1002                                 0         0                 0   \n",
            "1003                                 0         0                 0   \n",
            "1004                                 0         0                 0   \n",
            "\n",
            "itemDescription  artif. sweetener  baby cosmetics  bags  baking powder  \\\n",
            "Member_number                                                            \n",
            "1000                            0               0     0              0   \n",
            "1001                            0               0     0              0   \n",
            "1002                            0               0     0              0   \n",
            "1003                            0               0     0              0   \n",
            "1004                            0               0     0              0   \n",
            "\n",
            "itemDescription  bathroom cleaner  beef  berries  ...  turkey  vinegar  \\\n",
            "Member_number                                     ...                    \n",
            "1000                            0     0        0  ...       0        0   \n",
            "1001                            0     1        0  ...       0        0   \n",
            "1002                            0     0        0  ...       0        0   \n",
            "1003                            0     0        0  ...       0        0   \n",
            "1004                            0     0        0  ...       0        0   \n",
            "\n",
            "itemDescription  waffles  whipped/sour cream  whisky  white bread  white wine  \\\n",
            "Member_number                                                                   \n",
            "1000                   0                   0       0            0           0   \n",
            "1001                   0                   1       0            1           0   \n",
            "1002                   0                   0       0            0           0   \n",
            "1003                   0                   0       0            0           0   \n",
            "1004                   0                   0       0            0           0   \n",
            "\n",
            "itemDescription  whole milk  yogurt  zwieback  \n",
            "Member_number                                  \n",
            "1000                      1       1         0  \n",
            "1001                      1       0         0  \n",
            "1002                      1       0         0  \n",
            "1003                      0       0         0  \n",
            "1004                      1       0         0  \n",
            "\n",
            "[5 rows x 167 columns]\n"
          ]
        }
      ]
    },
    {
      "cell_type": "markdown",
      "source": [
        "Se generan los itemsets frecuentes y las reglas de asociación con un `soporte=0.01` y una `confianza=0.01`."
      ],
      "metadata": {
        "id": "VUxpwLPfEhW_"
      }
    },
    {
      "cell_type": "code",
      "source": [
        "# Generar los conjuntos frecuentes con soporte mínimo\n",
        "frequent_itemsets = apriori(groceries_encoded, min_support=0.01, use_colnames=True)\n",
        "\n",
        "# Generar las reglas de asociación con soporte y confianza mínimos\n",
        "rules = association_rules(frequent_itemsets, metric=\"confidence\", min_threshold=0.01)\n",
        "\n",
        "# Ver la cantidad de reglas generadas\n",
        "print(f\"Número de reglas generadas: {len(rules)}\")\n",
        "\n",
        "# Ver las primeras reglas generadas\n",
        "print(\"Reglas generadas:\")\n",
        "print(rules.head())"
      ],
      "metadata": {
        "id": "jyl889fWElX4",
        "colab": {
          "base_uri": "https://localhost:8080/"
        },
        "outputId": "19e5f680-0fe6-46e2-f5e3-6da8dba64419"
      },
      "execution_count": 4,
      "outputs": [
        {
          "output_type": "stream",
          "name": "stderr",
          "text": [
            "/usr/local/lib/python3.10/dist-packages/ipykernel/ipkernel.py:283: DeprecationWarning: `should_run_async` will not call `transform_cell` automatically in the future. Please pass the result to `transformed_cell` argument and any exception that happen during thetransform in `preprocessing_exc_tuple` in IPython 7.17 and above.\n",
            "  def _forward_input(self, allow_stdin=False):\n",
            "/usr/local/lib/python3.10/dist-packages/mlxtend/frequent_patterns/fpcommon.py:109: DeprecationWarning: DataFrames with non-bool types result in worse computationalperformance and their support might be discontinued in the future.Please use a DataFrame with bool type\n",
            "  warnings.warn(\n"
          ]
        },
        {
          "output_type": "stream",
          "name": "stdout",
          "text": [
            "Número de reglas generadas: 15480\n",
            "Reglas generadas:\n",
            "       antecedents     consequents  antecedent support  consequent support  \\\n",
            "0           (beef)      (UHT-milk)            0.119548            0.078502   \n",
            "1       (UHT-milk)          (beef)            0.078502            0.119548   \n",
            "2   (bottled beer)      (UHT-milk)            0.158799            0.078502   \n",
            "3       (UHT-milk)  (bottled beer)            0.078502            0.158799   \n",
            "4  (bottled water)      (UHT-milk)            0.213699            0.078502   \n",
            "\n",
            "    support  confidence      lift  leverage  conviction  zhangs_metric  \n",
            "0  0.010518    0.087983  1.120775  0.001133    1.010396       0.122392  \n",
            "1  0.010518    0.133987  1.120775  0.001133    1.016672       0.116940  \n",
            "2  0.014879    0.093700  1.193597  0.002413    1.016769       0.192815  \n",
            "3  0.014879    0.189542  1.193597  0.002413    1.037933       0.176014  \n",
            "4  0.021293    0.099640  1.269268  0.004517    1.023477       0.269801  \n"
          ]
        }
      ]
    },
    {
      "cell_type": "markdown",
      "source": [
        "Ordenamos las reglas po el lift y mostramos las primeras 10:"
      ],
      "metadata": {
        "id": "JXBeTZdSEsIW"
      }
    },
    {
      "cell_type": "code",
      "source": [
        "# Ordenar las reglas por lift y mostrar las primeras 10\n",
        "rules_sorted_by_lift = rules.sort_values(by=\"lift\", ascending=False)\n",
        "print(\"Top 10 reglas ordenadas por lift:\")\n",
        "print(rules_sorted_by_lift.head(10))"
      ],
      "metadata": {
        "colab": {
          "base_uri": "https://localhost:8080/"
        },
        "id": "HX4_G8fHE6R2",
        "outputId": "6465a9de-3a6e-421f-e519-0623997c3b46"
      },
      "execution_count": 5,
      "outputs": [
        {
          "output_type": "stream",
          "name": "stdout",
          "text": [
            "Top 10 reglas ordenadas por lift:\n",
            "                                   antecedents  \\\n",
            "15404  (other vegetables, whole milk, sausage)   \n",
            "15405                     (yogurt, rolls/buns)   \n",
            "15397   (yogurt, rolls/buns, other vegetables)   \n",
            "15412                    (whole milk, sausage)   \n",
            "13015                    (sausage, whole milk)   \n",
            "13014                           (yogurt, curd)   \n",
            "15408               (yogurt, other vegetables)   \n",
            "15401        (rolls/buns, whole milk, sausage)   \n",
            "15399   (yogurt, whole milk, other vegetables)   \n",
            "15410                    (rolls/buns, sausage)   \n",
            "\n",
            "                                   consequents  antecedent support  \\\n",
            "15404                     (yogurt, rolls/buns)            0.050282   \n",
            "15405  (other vegetables, whole milk, sausage)            0.111339   \n",
            "15397                    (whole milk, sausage)            0.052335   \n",
            "15412   (yogurt, rolls/buns, other vegetables)            0.106978   \n",
            "13015                           (yogurt, curd)            0.106978   \n",
            "13014                    (sausage, whole milk)            0.040277   \n",
            "15408        (rolls/buns, whole milk, sausage)            0.120318   \n",
            "15401               (yogurt, other vegetables)            0.048743   \n",
            "15399                    (rolls/buns, sausage)            0.071832   \n",
            "15410   (yogurt, whole milk, other vegetables)            0.082350   \n",
            "\n",
            "       consequent support   support  confidence      lift  leverage  \\\n",
            "15404            0.111339  0.013597    0.270408  2.428689  0.007998   \n",
            "15405            0.050282  0.013597    0.122120  2.428689  0.007998   \n",
            "15397            0.106978  0.013597    0.259804  2.428575  0.007998   \n",
            "15412            0.052335  0.013597    0.127098  2.428575  0.007998   \n",
            "13015            0.040277  0.010005    0.093525  2.322046  0.005696   \n",
            "13014            0.106978  0.010005    0.248408  2.322046  0.005696   \n",
            "15408            0.048743  0.013597    0.113006  2.318415  0.007732   \n",
            "15401            0.120318  0.013597    0.278947  2.318415  0.007732   \n",
            "15399            0.082350  0.013597    0.189286  2.298554  0.007681   \n",
            "15410            0.071832  0.013597    0.165109  2.298554  0.007681   \n",
            "\n",
            "       conviction  zhangs_metric  \n",
            "15404    1.218025       0.619400  \n",
            "15405    1.081831       0.661957  \n",
            "15397    1.206467       0.620721  \n",
            "15412    1.085650       0.658702  \n",
            "13015    1.058742       0.637549  \n",
            "13014    1.188173       0.593239  \n",
            "15408    1.072451       0.646451  \n",
            "15401    1.219997       0.597810  \n",
            "15399    1.131903       0.608665  \n",
            "15410    1.111724       0.615642  \n"
          ]
        },
        {
          "output_type": "stream",
          "name": "stderr",
          "text": [
            "/usr/local/lib/python3.10/dist-packages/ipykernel/ipkernel.py:283: DeprecationWarning: `should_run_async` will not call `transform_cell` automatically in the future. Please pass the result to `transformed_cell` argument and any exception that happen during thetransform in `preprocessing_exc_tuple` in IPython 7.17 and above.\n",
            "  def _forward_input(self, allow_stdin=False):\n"
          ]
        }
      ]
    },
    {
      "cell_type": "markdown",
      "source": [
        "Ahora ordenamos las reglas que del lado izquierdo poseen botella de cerveza (por ejemplo):"
      ],
      "metadata": {
        "id": "-QUpawC6Tdv5"
      }
    },
    {
      "cell_type": "code",
      "source": [
        "# Filtrar reglas con antecedente específico (lhs) - \"bottled beer\"\n",
        "rules_beer = rules[rules['antecedents'].apply(lambda x: 'bottled beer' in x)]\n",
        "print(\"\\nReglas con antecedente 'bottled beer':\")\n",
        "print(rules_beer)"
      ],
      "metadata": {
        "colab": {
          "base_uri": "https://localhost:8080/"
        },
        "id": "loVNrYBSLIOO",
        "outputId": "a2f89f90-5c06-4605-aaa2-b837c36f7ec1"
      },
      "execution_count": 6,
      "outputs": [
        {
          "output_type": "stream",
          "name": "stdout",
          "text": [
            "\n",
            "Reglas con antecedente 'bottled beer':\n",
            "                            antecedents                 consequents  \\\n",
            "2                        (bottled beer)                  (UHT-milk)   \n",
            "73                       (bottled beer)                      (beef)   \n",
            "140                      (bottled beer)                   (berries)   \n",
            "193                      (bottled beer)                 (beverages)   \n",
            "235                      (bottled beer)             (bottled water)   \n",
            "...                                 ...                         ...   \n",
            "11331  (whole milk, soda, bottled beer)                    (yogurt)   \n",
            "11334            (yogurt, bottled beer)          (whole milk, soda)   \n",
            "11336        (whole milk, bottled beer)              (yogurt, soda)   \n",
            "11337              (soda, bottled beer)        (yogurt, whole milk)   \n",
            "11341                    (bottled beer)  (yogurt, whole milk, soda)   \n",
            "\n",
            "       antecedent support  consequent support   support  confidence      lift  \\\n",
            "2                0.158799            0.078502  0.014879    0.093700  1.193597   \n",
            "73               0.158799            0.119548  0.020780    0.130856  1.094587   \n",
            "140              0.158799            0.079785  0.016675    0.105008  1.316146   \n",
            "193              0.158799            0.062083  0.010005    0.063005  1.014847   \n",
            "235              0.158799            0.213699  0.040277    0.253635  1.186877   \n",
            "...                   ...                 ...       ...         ...       ...   \n",
            "11331            0.028733            0.282966  0.010262    0.357143  1.262142   \n",
            "11334            0.048743            0.151103  0.010262    0.210526  1.393262   \n",
            "11336            0.085428            0.097486  0.010262    0.120120  1.232180   \n",
            "11337            0.055156            0.150590  0.010262    0.186047  1.235450   \n",
            "11341            0.158799            0.054387  0.010262    0.064620  1.188161   \n",
            "\n",
            "       leverage  conviction  zhangs_metric  \n",
            "2      0.002413    1.016769       0.192815  \n",
            "73     0.001796    1.013010       0.102726  \n",
            "140    0.004005    1.028183       0.285551  \n",
            "193    0.000146    1.000984       0.017391  \n",
            "235    0.006342    1.053507       0.187176  \n",
            "...         ...         ...            ...  \n",
            "11331  0.002131    1.115387       0.213840  \n",
            "11334  0.002896    1.075269       0.296723  \n",
            "11336  0.001934    1.025724       0.206031  \n",
            "11337  0.001956    1.043561       0.201704  \n",
            "11341  0.001625    1.010940       0.188259  \n",
            "\n",
            "[483 rows x 10 columns]\n"
          ]
        },
        {
          "output_type": "stream",
          "name": "stderr",
          "text": [
            "/usr/local/lib/python3.10/dist-packages/ipykernel/ipkernel.py:283: DeprecationWarning: `should_run_async` will not call `transform_cell` automatically in the future. Please pass the result to `transformed_cell` argument and any exception that happen during thetransform in `preprocessing_exc_tuple` in IPython 7.17 and above.\n",
            "  def _forward_input(self, allow_stdin=False):\n"
          ]
        }
      ]
    },
    {
      "cell_type": "markdown",
      "source": [
        "O que en el consecuente poseen manteca:"
      ],
      "metadata": {
        "id": "5Wp6TBD9ToYV"
      }
    },
    {
      "cell_type": "code",
      "source": [
        "# Filtrar reglas con consecuente específico (rhs) - \"butter\"\n",
        "rules_butter = rules[rules['consequents'].apply(lambda x: 'butter' in x)]\n",
        "print(\"\\nReglas con consecuente 'butter':\")\n",
        "print(rules_butter)"
      ],
      "metadata": {
        "colab": {
          "base_uri": "https://localhost:8080/"
        },
        "id": "VSZUYC4-LDWV",
        "outputId": "5459dd49-4d4e-4b4d-f267-3cdd7ce9ba1b"
      },
      "execution_count": 7,
      "outputs": [
        {
          "output_type": "stream",
          "name": "stdout",
          "text": [
            "\n",
            "Reglas con consecuente 'butter':\n",
            "              antecedents                   consequents  antecedent support  \\\n",
            "9              (UHT-milk)                      (butter)            0.078502   \n",
            "78                 (beef)                      (butter)            0.119548   \n",
            "147             (berries)                      (butter)            0.079785   \n",
            "239        (bottled beer)                      (butter)            0.158799   \n",
            "336       (bottled water)                      (butter)            0.213699   \n",
            "...                   ...                           ...                 ...   \n",
            "12341      (yogurt, soda)          (whole milk, butter)            0.097486   \n",
            "12343  (whole milk, soda)              (yogurt, butter)            0.151103   \n",
            "12346            (yogurt)    (whole milk, soda, butter)            0.282966   \n",
            "12347        (whole milk)        (yogurt, soda, butter)            0.458184   \n",
            "12348              (soda)  (yogurt, whole milk, butter)            0.313494   \n",
            "\n",
            "       consequent support   support  confidence      lift  leverage  \\\n",
            "9                0.126475  0.010518    0.133987  1.059394  0.000590   \n",
            "78               0.126475  0.020523    0.171674  1.357372  0.005403   \n",
            "147              0.126475  0.010518    0.131833  1.042362  0.000427   \n",
            "239              0.126475  0.021036    0.132472  1.047413  0.000952   \n",
            "336              0.126475  0.033094    0.154862  1.224446  0.006066   \n",
            "...                   ...       ...         ...       ...       ...   \n",
            "12341            0.066188  0.010775    0.110526  1.669890  0.004322   \n",
            "12343            0.044895  0.010775    0.071307  1.588319  0.003991   \n",
            "12346            0.022576  0.010775    0.038078  1.686681  0.004387   \n",
            "12347            0.017188  0.010775    0.023516  1.368154  0.002899   \n",
            "12348            0.026937  0.010775    0.034370  1.275941  0.002330   \n",
            "\n",
            "       conviction  zhangs_metric  \n",
            "9        1.008674       0.060840  \n",
            "78       1.054566       0.299031  \n",
            "147      1.006171       0.044164  \n",
            "239      1.006912       0.053813  \n",
            "336      1.033588       0.233122  \n",
            "...           ...            ...  \n",
            "12341    1.049848       0.444490  \n",
            "12343    1.028440       0.436335  \n",
            "12346    1.016116       0.567783  \n",
            "12347    1.006480       0.496641  \n",
            "12348    1.007698       0.315022  \n",
            "\n",
            "[302 rows x 10 columns]\n"
          ]
        },
        {
          "output_type": "stream",
          "name": "stderr",
          "text": [
            "/usr/local/lib/python3.10/dist-packages/ipykernel/ipkernel.py:283: DeprecationWarning: `should_run_async` will not call `transform_cell` automatically in the future. Please pass the result to `transformed_cell` argument and any exception that happen during thetransform in `preprocessing_exc_tuple` in IPython 7.17 and above.\n",
            "  def _forward_input(self, allow_stdin=False):\n"
          ]
        }
      ]
    },
    {
      "cell_type": "markdown",
      "source": [
        "También buscamos reglas con waffles:"
      ],
      "metadata": {
        "id": "PlBVChzSTwkA"
      }
    },
    {
      "cell_type": "code",
      "source": [
        "# Filtrar reglas que contienen \"waffles\" en el antecedente\n",
        "rules_waffles = rules[rules['antecedents'].apply(lambda x: 'waffles' in x)]\n",
        "print(\"\\nReglas que contienen 'waffles' en el antecedente:\")\n",
        "print(rules_waffles)"
      ],
      "metadata": {
        "colab": {
          "base_uri": "https://localhost:8080/"
        },
        "id": "bTOrI5kUT1Ck",
        "outputId": "64c82ed9-e653-4561-f5c7-7a52e0f582e4"
      },
      "execution_count": 8,
      "outputs": [
        {
          "output_type": "stream",
          "name": "stderr",
          "text": [
            "/usr/local/lib/python3.10/dist-packages/ipykernel/ipkernel.py:283: DeprecationWarning: `should_run_async` will not call `transform_cell` automatically in the future. Please pass the result to `transformed_cell` argument and any exception that happen during thetransform in `preprocessing_exc_tuple` in IPython 7.17 and above.\n",
            "  def _forward_input(self, allow_stdin=False):\n"
          ]
        },
        {
          "output_type": "stream",
          "name": "stdout",
          "text": [
            "\n",
            "Reglas que contienen 'waffles' en el antecedente:\n",
            "                       antecedents                        consequents  \\\n",
            "130                      (waffles)                             (beef)   \n",
            "324                      (waffles)                     (bottled beer)   \n",
            "432                      (waffles)                    (bottled water)   \n",
            "510                      (waffles)                      (brown bread)   \n",
            "730                      (waffles)                      (canned beer)   \n",
            "828                      (waffles)                          (chicken)   \n",
            "958                      (waffles)                     (citrus fruit)   \n",
            "1229                     (waffles)                    (domestic eggs)   \n",
            "1300                     (waffles)                      (frankfurter)   \n",
            "1860                     (waffles)                 (other vegetables)   \n",
            "1912                     (waffles)                           (pastry)   \n",
            "1956                     (waffles)                        (pip fruit)   \n",
            "1980                     (waffles)                             (pork)   \n",
            "2041                     (waffles)                       (rolls/buns)   \n",
            "2075                     (waffles)                  (root vegetables)   \n",
            "2117                     (waffles)                          (sausage)   \n",
            "2150                     (waffles)                    (shopping bags)   \n",
            "2178                     (waffles)                             (soda)   \n",
            "2219                     (waffles)                   (tropical fruit)   \n",
            "2230                     (waffles)               (whipped/sour cream)   \n",
            "2233                     (waffles)                       (whole milk)   \n",
            "2235                     (waffles)                           (yogurt)   \n",
            "3974   (waffles, other vegetables)                    (bottled water)   \n",
            "3975      (waffles, bottled water)                 (other vegetables)   \n",
            "3977                     (waffles)  (other vegetables, bottled water)   \n",
            "4305         (whole milk, waffles)                    (bottled water)   \n",
            "4306      (waffles, bottled water)                       (whole milk)   \n",
            "4309                     (waffles)        (whole milk, bottled water)   \n",
            "9464         (rolls/buns, waffles)                 (other vegetables)   \n",
            "9466   (waffles, other vegetables)                       (rolls/buns)   \n",
            "9468                     (waffles)     (rolls/buns, other vegetables)   \n",
            "9662   (waffles, other vegetables)                             (soda)   \n",
            "9664               (waffles, soda)                 (other vegetables)   \n",
            "9666                     (waffles)           (soda, other vegetables)   \n",
            "9735         (whole milk, waffles)                 (other vegetables)   \n",
            "9736   (waffles, other vegetables)                       (whole milk)   \n",
            "9739                     (waffles)     (whole milk, other vegetables)   \n",
            "9740             (yogurt, waffles)                 (other vegetables)   \n",
            "9742   (waffles, other vegetables)                           (yogurt)   \n",
            "9744                     (waffles)         (yogurt, other vegetables)   \n",
            "10521        (rolls/buns, waffles)                       (whole milk)   \n",
            "10522        (whole milk, waffles)                       (rolls/buns)   \n",
            "10525                    (waffles)           (rolls/buns, whole milk)   \n",
            "10671   (root vegetables, waffles)                       (whole milk)   \n",
            "10672        (whole milk, waffles)                  (root vegetables)   \n",
            "10675                    (waffles)      (root vegetables, whole milk)   \n",
            "10899        (whole milk, waffles)                             (soda)   \n",
            "10900              (waffles, soda)                       (whole milk)   \n",
            "10903                    (waffles)                 (whole milk, soda)   \n",
            "10953    (tropical fruit, waffles)                       (whole milk)   \n",
            "10954        (whole milk, waffles)                   (tropical fruit)   \n",
            "10957                    (waffles)       (tropical fruit, whole milk)   \n",
            "10983            (yogurt, waffles)                       (whole milk)   \n",
            "10984        (whole milk, waffles)                           (yogurt)   \n",
            "10987                    (waffles)               (yogurt, whole milk)   \n",
            "\n",
            "       antecedent support  consequent support   support  confidence      lift  \\\n",
            "130              0.069010            0.119548  0.010775    0.156134  1.306029   \n",
            "324              0.069010            0.158799  0.016162    0.234201  1.474821   \n",
            "432              0.069010            0.213699  0.018214    0.263941  1.235102   \n",
            "510              0.069010            0.135967  0.010262    0.148699  1.093638   \n",
            "730              0.069010            0.165213  0.011031    0.159851  0.967547   \n",
            "828              0.069010            0.100564  0.011801    0.171004  1.700440   \n",
            "958              0.069010            0.185480  0.014366    0.208178  1.122378   \n",
            "1229             0.069010            0.133145  0.010262    0.148699  1.116817   \n",
            "1300             0.069010            0.137506  0.012314    0.178439  1.297675   \n",
            "1860             0.069010            0.376603  0.031042    0.449814  1.194397   \n",
            "1912             0.069010            0.177527  0.015136    0.219331  1.235479   \n",
            "1956             0.069010            0.170600  0.014623    0.211896  1.242061   \n",
            "1980             0.069010            0.132376  0.010005    0.144981  1.095228   \n",
            "2041             0.069010            0.349666  0.024885    0.360595  1.031253   \n",
            "2075             0.069010            0.230631  0.019241    0.278810  1.208902   \n",
            "2117             0.069010            0.206003  0.015906    0.230483  1.118834   \n",
            "2150             0.069010            0.168291  0.013340    0.193309  1.148654   \n",
            "2178             0.069010            0.313494  0.024371    0.353160  1.126528   \n",
            "2219             0.069010            0.233710  0.021036    0.304833  1.304323   \n",
            "2230             0.069010            0.154695  0.014110    0.204461  1.321706   \n",
            "2233             0.069010            0.458184  0.037968    0.550186  1.200798   \n",
            "2235             0.069010            0.282966  0.023602    0.342007  1.208654   \n",
            "3974             0.031042            0.213699  0.010262    0.330579  1.546933   \n",
            "3975             0.018214            0.376603  0.010262    0.563380  1.495951   \n",
            "3977             0.069010            0.093894  0.010262    0.148699  1.583684   \n",
            "4305             0.037968            0.213699  0.011544    0.304054  1.422812   \n",
            "4306             0.018214            0.458184  0.011544    0.633803  1.383294   \n",
            "4309             0.069010            0.112365  0.011544    0.167286  1.488771   \n",
            "9464             0.024885            0.376603  0.012314    0.494845  1.313969   \n",
            "9466             0.031042            0.349666  0.012314    0.396694  1.134493   \n",
            "9468             0.069010            0.146742  0.012314    0.178439  1.216003   \n",
            "9662             0.031042            0.313494  0.011031    0.355372  1.133584   \n",
            "9664             0.024371            0.376603  0.011031    0.452632  1.201879   \n",
            "9666             0.069010            0.124166  0.011031    0.159851  1.287397   \n",
            "9735             0.037968            0.376603  0.018214    0.479730  1.273833   \n",
            "9736             0.031042            0.458184  0.018214    0.586777  1.280659   \n",
            "9739             0.069010            0.191380  0.018214    0.263941  1.379142   \n",
            "9740             0.023602            0.376603  0.010262    0.434783  1.154484   \n",
            "9742             0.031042            0.282966  0.010262    0.330579  1.168264   \n",
            "9744             0.069010            0.120318  0.010262    0.148699  1.235881   \n",
            "10521            0.024885            0.458184  0.013853    0.556701  1.215017   \n",
            "10522            0.037968            0.349666  0.013853    0.364865  1.043465   \n",
            "10525            0.069010            0.178553  0.013853    0.200743  1.124279   \n",
            "10671            0.019241            0.458184  0.012057    0.626667  1.367719   \n",
            "10672            0.037968            0.230631  0.012057    0.317568  1.376950   \n",
            "10675            0.069010            0.113135  0.012057    0.174721  1.544361   \n",
            "10899            0.037968            0.313494  0.013853    0.364865  1.163865   \n",
            "10900            0.024371            0.458184  0.013853    0.568421  1.240596   \n",
            "10903            0.069010            0.151103  0.013853    0.200743  1.328520   \n",
            "10953            0.021036            0.458184  0.011288    0.536585  1.171114   \n",
            "10954            0.037968            0.233710  0.011288    0.297297  1.272080   \n",
            "10957            0.069010            0.116470  0.011288    0.163569  1.404386   \n",
            "10983            0.023602            0.458184  0.014879    0.630435  1.375943   \n",
            "10984            0.037968            0.282966  0.014879    0.391892  1.384945   \n",
            "10987            0.069010            0.150590  0.014879    0.215613  1.431790   \n",
            "\n",
            "       leverage  conviction  zhangs_metric  \n",
            "130    0.002525    1.043354       0.251689  \n",
            "324    0.005203    1.098461       0.345817  \n",
            "432    0.003467    1.068257       0.204460  \n",
            "510    0.000879    1.014956       0.091967  \n",
            "730   -0.000370    0.993618      -0.034775  \n",
            "828    0.004861    1.084969       0.442450  \n",
            "958    0.001566    1.028666       0.117117  \n",
            "1229   0.001073    1.018270       0.112352  \n",
            "1300   0.002825    1.049823       0.246395  \n",
            "1860   0.005052    1.133065       0.174822  \n",
            "1912   0.002885    1.053549       0.204726  \n",
            "1956   0.002850    1.052399       0.209332  \n",
            "1980   0.000870    1.014743       0.093393  \n",
            "2041   0.000754    1.017091       0.032553  \n",
            "2075   0.003325    1.066805       0.185612  \n",
            "2117   0.001689    1.031812       0.114085  \n",
            "2150   0.001726    1.031012       0.139008  \n",
            "2178   0.002737    1.061322       0.120642  \n",
            "2219   0.004908    1.102311       0.250613  \n",
            "2230   0.003434    1.062557       0.261444  \n",
            "2233   0.006349    1.204534       0.179615  \n",
            "2235   0.004074    1.089730       0.185430  \n",
            "3974   0.003628    1.174597       0.364886  \n",
            "3975   0.003402    1.427779       0.337680  \n",
            "3977   0.003782    1.064377       0.395880  \n",
            "4305   0.003431    1.129830       0.308895  \n",
            "4306   0.003199    1.479575       0.282229  \n",
            "4309   0.003790    1.065954       0.352641  \n",
            "9464   0.002942    1.234071       0.245045  \n",
            "9466   0.001460    1.077950       0.122347  \n",
            "9468   0.002187    1.038581       0.190801  \n",
            "9662   0.001300    1.064964       0.121617  \n",
            "9664   0.001853    1.138898       0.172165  \n",
            "9666   0.002463    1.042475       0.239787  \n",
            "9735   0.003916    1.198217       0.223452  \n",
            "9736   0.003992    1.311195       0.226172  \n",
            "9739   0.005007    1.098579       0.295290  \n",
            "9740   0.001373    1.102932       0.137047  \n",
            "9742   0.001478    1.071125       0.148643  \n",
            "9744   0.001959    1.033338       0.205008  \n",
            "10521  0.002452    1.222237       0.181482  \n",
            "10522  0.000577    1.023929       0.043299  \n",
            "10525  0.001531    1.027764       0.118735  \n",
            "10671  0.003242    1.451294       0.274130  \n",
            "10672  0.003301    1.127392       0.284562  \n",
            "10675  0.004250    1.074625       0.378611  \n",
            "10899  0.001950    1.080882       0.146351  \n",
            "10900  0.002687    1.255428       0.198781  \n",
            "10903  0.003426    1.062108       0.265612  \n",
            "10953  0.001649    1.169183       0.149252  \n",
            "10954  0.002414    1.090490       0.222327  \n",
            "10957  0.003250    1.056309       0.309289  \n",
            "10983  0.004065    1.466091       0.279830  \n",
            "10984  0.004136    1.179123       0.288920  \n",
            "10987  0.004487    1.082897       0.323928  \n"
          ]
        }
      ]
    },
    {
      "cell_type": "markdown",
      "source": [
        "Graficamos el soporte, la confianza y el lift de las reglas generadas:"
      ],
      "metadata": {
        "id": "glJPzpK3FEvT"
      }
    },
    {
      "cell_type": "code",
      "source": [
        "# Gráfico de dispersión entre soporte, confianza y lift\n",
        "plt.figure(figsize=(8, 6))\n",
        "sns.scatterplot(x='support', y='confidence', size='lift', hue='lift', data=rules, sizes=(10, 200), palette='viridis', legend=False)\n",
        "plt.title(\"Scatter plot de reglas de asociación\")\n",
        "plt.show()"
      ],
      "metadata": {
        "colab": {
          "base_uri": "https://localhost:8080/",
          "height": 411
        },
        "id": "ySWArx6hFJIb",
        "outputId": "950ac85f-6495-4282-97a7-b09bea46b227"
      },
      "execution_count": 9,
      "outputs": [
        {
          "output_type": "stream",
          "name": "stderr",
          "text": [
            "/usr/local/lib/python3.10/dist-packages/ipykernel/ipkernel.py:283: DeprecationWarning: `should_run_async` will not call `transform_cell` automatically in the future. Please pass the result to `transformed_cell` argument and any exception that happen during thetransform in `preprocessing_exc_tuple` in IPython 7.17 and above.\n",
            "  def _forward_input(self, allow_stdin=False):\n"
          ]
        },
        {
          "output_type": "error",
          "ename": "KeyboardInterrupt",
          "evalue": "",
          "traceback": [
            "\u001b[0;31m---------------------------------------------------------------------------\u001b[0m",
            "\u001b[0;31mKeyboardInterrupt\u001b[0m                         Traceback (most recent call last)",
            "\u001b[0;32m<ipython-input-9-a85850568bf5>\u001b[0m in \u001b[0;36m<cell line: 5>\u001b[0;34m()\u001b[0m\n\u001b[1;32m      3\u001b[0m \u001b[0msns\u001b[0m\u001b[0;34m.\u001b[0m\u001b[0mscatterplot\u001b[0m\u001b[0;34m(\u001b[0m\u001b[0mx\u001b[0m\u001b[0;34m=\u001b[0m\u001b[0;34m'support'\u001b[0m\u001b[0;34m,\u001b[0m \u001b[0my\u001b[0m\u001b[0;34m=\u001b[0m\u001b[0;34m'confidence'\u001b[0m\u001b[0;34m,\u001b[0m \u001b[0msize\u001b[0m\u001b[0;34m=\u001b[0m\u001b[0;34m'lift'\u001b[0m\u001b[0;34m,\u001b[0m \u001b[0mhue\u001b[0m\u001b[0;34m=\u001b[0m\u001b[0;34m'lift'\u001b[0m\u001b[0;34m,\u001b[0m \u001b[0mdata\u001b[0m\u001b[0;34m=\u001b[0m\u001b[0mrules\u001b[0m\u001b[0;34m,\u001b[0m \u001b[0msizes\u001b[0m\u001b[0;34m=\u001b[0m\u001b[0;34m(\u001b[0m\u001b[0;36m10\u001b[0m\u001b[0;34m,\u001b[0m \u001b[0;36m200\u001b[0m\u001b[0;34m)\u001b[0m\u001b[0;34m,\u001b[0m \u001b[0mpalette\u001b[0m\u001b[0;34m=\u001b[0m\u001b[0;34m'viridis'\u001b[0m\u001b[0;34m,\u001b[0m \u001b[0mlegend\u001b[0m\u001b[0;34m=\u001b[0m\u001b[0;32mFalse\u001b[0m\u001b[0;34m)\u001b[0m\u001b[0;34m\u001b[0m\u001b[0;34m\u001b[0m\u001b[0m\n\u001b[1;32m      4\u001b[0m \u001b[0mplt\u001b[0m\u001b[0;34m.\u001b[0m\u001b[0mtitle\u001b[0m\u001b[0;34m(\u001b[0m\u001b[0;34m\"Scatter plot de reglas de asociación\"\u001b[0m\u001b[0;34m)\u001b[0m\u001b[0;34m\u001b[0m\u001b[0;34m\u001b[0m\u001b[0m\n\u001b[0;32m----> 5\u001b[0;31m \u001b[0mplt\u001b[0m\u001b[0;34m.\u001b[0m\u001b[0mshow\u001b[0m\u001b[0;34m(\u001b[0m\u001b[0;34m)\u001b[0m\u001b[0;34m\u001b[0m\u001b[0;34m\u001b[0m\u001b[0m\n\u001b[0m",
            "\u001b[0;32m/usr/local/lib/python3.10/dist-packages/matplotlib/pyplot.py\u001b[0m in \u001b[0;36mshow\u001b[0;34m(*args, **kwargs)\u001b[0m\n\u001b[1;32m    444\u001b[0m     \"\"\"\n\u001b[1;32m    445\u001b[0m     \u001b[0m_warn_if_gui_out_of_main_thread\u001b[0m\u001b[0;34m(\u001b[0m\u001b[0;34m)\u001b[0m\u001b[0;34m\u001b[0m\u001b[0;34m\u001b[0m\u001b[0m\n\u001b[0;32m--> 446\u001b[0;31m     \u001b[0;32mreturn\u001b[0m \u001b[0m_get_backend_mod\u001b[0m\u001b[0;34m(\u001b[0m\u001b[0;34m)\u001b[0m\u001b[0;34m.\u001b[0m\u001b[0mshow\u001b[0m\u001b[0;34m(\u001b[0m\u001b[0;34m*\u001b[0m\u001b[0margs\u001b[0m\u001b[0;34m,\u001b[0m \u001b[0;34m**\u001b[0m\u001b[0mkwargs\u001b[0m\u001b[0;34m)\u001b[0m\u001b[0;34m\u001b[0m\u001b[0;34m\u001b[0m\u001b[0m\n\u001b[0m\u001b[1;32m    447\u001b[0m \u001b[0;34m\u001b[0m\u001b[0m\n\u001b[1;32m    448\u001b[0m \u001b[0;34m\u001b[0m\u001b[0m\n",
            "\u001b[0;32m/usr/local/lib/python3.10/dist-packages/matplotlib_inline/backend_inline.py\u001b[0m in \u001b[0;36mshow\u001b[0;34m(close, block)\u001b[0m\n\u001b[1;32m     88\u001b[0m     \u001b[0;32mtry\u001b[0m\u001b[0;34m:\u001b[0m\u001b[0;34m\u001b[0m\u001b[0;34m\u001b[0m\u001b[0m\n\u001b[1;32m     89\u001b[0m         \u001b[0;32mfor\u001b[0m \u001b[0mfigure_manager\u001b[0m \u001b[0;32min\u001b[0m \u001b[0mGcf\u001b[0m\u001b[0;34m.\u001b[0m\u001b[0mget_all_fig_managers\u001b[0m\u001b[0;34m(\u001b[0m\u001b[0;34m)\u001b[0m\u001b[0;34m:\u001b[0m\u001b[0;34m\u001b[0m\u001b[0;34m\u001b[0m\u001b[0m\n\u001b[0;32m---> 90\u001b[0;31m             display(\n\u001b[0m\u001b[1;32m     91\u001b[0m                 \u001b[0mfigure_manager\u001b[0m\u001b[0;34m.\u001b[0m\u001b[0mcanvas\u001b[0m\u001b[0;34m.\u001b[0m\u001b[0mfigure\u001b[0m\u001b[0;34m,\u001b[0m\u001b[0;34m\u001b[0m\u001b[0;34m\u001b[0m\u001b[0m\n\u001b[1;32m     92\u001b[0m                 \u001b[0mmetadata\u001b[0m\u001b[0;34m=\u001b[0m\u001b[0m_fetch_figure_metadata\u001b[0m\u001b[0;34m(\u001b[0m\u001b[0mfigure_manager\u001b[0m\u001b[0;34m.\u001b[0m\u001b[0mcanvas\u001b[0m\u001b[0;34m.\u001b[0m\u001b[0mfigure\u001b[0m\u001b[0;34m)\u001b[0m\u001b[0;34m\u001b[0m\u001b[0;34m\u001b[0m\u001b[0m\n",
            "\u001b[0;32m/usr/local/lib/python3.10/dist-packages/IPython/core/display.py\u001b[0m in \u001b[0;36mdisplay\u001b[0;34m(include, exclude, metadata, transient, display_id, *objs, **kwargs)\u001b[0m\n\u001b[1;32m    318\u001b[0m         \u001b[0;31m# subclasses ensure url and filename are set\u001b[0m\u001b[0;34m\u001b[0m\u001b[0;34m\u001b[0m\u001b[0m\n\u001b[1;32m    319\u001b[0m         \u001b[0;31m# before assigning to self.data\u001b[0m\u001b[0;34m\u001b[0m\u001b[0;34m\u001b[0m\u001b[0m\n\u001b[0;32m--> 320\u001b[0;31m         \u001b[0mself\u001b[0m\u001b[0;34m.\u001b[0m\u001b[0mdata\u001b[0m \u001b[0;34m=\u001b[0m \u001b[0mdata\u001b[0m\u001b[0;34m\u001b[0m\u001b[0;34m\u001b[0m\u001b[0m\n\u001b[0m\u001b[1;32m    321\u001b[0m \u001b[0;34m\u001b[0m\u001b[0m\n\u001b[1;32m    322\u001b[0m         \u001b[0;32mif\u001b[0m \u001b[0mmetadata\u001b[0m \u001b[0;32mis\u001b[0m \u001b[0;32mnot\u001b[0m \u001b[0;32mNone\u001b[0m\u001b[0;34m:\u001b[0m\u001b[0;34m\u001b[0m\u001b[0;34m\u001b[0m\u001b[0m\n",
            "\u001b[0;32m/usr/local/lib/python3.10/dist-packages/IPython/core/formatters.py\u001b[0m in \u001b[0;36mformat\u001b[0;34m(self, obj, include, exclude)\u001b[0m\n\u001b[1;32m    178\u001b[0m                 \u001b[0;32mcontinue\u001b[0m\u001b[0;34m\u001b[0m\u001b[0;34m\u001b[0m\u001b[0m\n\u001b[1;32m    179\u001b[0m \u001b[0;34m\u001b[0m\u001b[0m\n\u001b[0;32m--> 180\u001b[0;31m             \u001b[0mmd\u001b[0m \u001b[0;34m=\u001b[0m \u001b[0;32mNone\u001b[0m\u001b[0;34m\u001b[0m\u001b[0;34m\u001b[0m\u001b[0m\n\u001b[0m\u001b[1;32m    181\u001b[0m             \u001b[0;32mtry\u001b[0m\u001b[0;34m:\u001b[0m\u001b[0;34m\u001b[0m\u001b[0;34m\u001b[0m\u001b[0m\n\u001b[1;32m    182\u001b[0m                 \u001b[0mdata\u001b[0m \u001b[0;34m=\u001b[0m \u001b[0mformatter\u001b[0m\u001b[0;34m(\u001b[0m\u001b[0mobj\u001b[0m\u001b[0;34m)\u001b[0m\u001b[0;34m\u001b[0m\u001b[0;34m\u001b[0m\u001b[0m\n",
            "\u001b[0;32m<decorator-gen-2>\u001b[0m in \u001b[0;36m__call__\u001b[0;34m(self, obj)\u001b[0m\n",
            "\u001b[0;32m/usr/local/lib/python3.10/dist-packages/IPython/core/formatters.py\u001b[0m in \u001b[0;36mcatch_format_error\u001b[0;34m(method, self, *args, **kwargs)\u001b[0m\n\u001b[1;32m    222\u001b[0m \u001b[0;34m@\u001b[0m\u001b[0mdecorator\u001b[0m\u001b[0;34m\u001b[0m\u001b[0;34m\u001b[0m\u001b[0m\n\u001b[1;32m    223\u001b[0m \u001b[0;32mdef\u001b[0m \u001b[0mcatch_format_error\u001b[0m\u001b[0;34m(\u001b[0m\u001b[0mmethod\u001b[0m\u001b[0;34m,\u001b[0m \u001b[0mself\u001b[0m\u001b[0;34m,\u001b[0m \u001b[0;34m*\u001b[0m\u001b[0margs\u001b[0m\u001b[0;34m,\u001b[0m \u001b[0;34m**\u001b[0m\u001b[0mkwargs\u001b[0m\u001b[0;34m)\u001b[0m\u001b[0;34m:\u001b[0m\u001b[0;34m\u001b[0m\u001b[0;34m\u001b[0m\u001b[0m\n\u001b[0;32m--> 224\u001b[0;31m     \u001b[0;34m\"\"\"show traceback on failed format call\"\"\"\u001b[0m\u001b[0;34m\u001b[0m\u001b[0;34m\u001b[0m\u001b[0m\n\u001b[0m\u001b[1;32m    225\u001b[0m     \u001b[0;32mtry\u001b[0m\u001b[0;34m:\u001b[0m\u001b[0;34m\u001b[0m\u001b[0;34m\u001b[0m\u001b[0m\n\u001b[1;32m    226\u001b[0m         \u001b[0mr\u001b[0m \u001b[0;34m=\u001b[0m \u001b[0mmethod\u001b[0m\u001b[0;34m(\u001b[0m\u001b[0mself\u001b[0m\u001b[0;34m,\u001b[0m \u001b[0;34m*\u001b[0m\u001b[0margs\u001b[0m\u001b[0;34m,\u001b[0m \u001b[0;34m**\u001b[0m\u001b[0mkwargs\u001b[0m\u001b[0;34m)\u001b[0m\u001b[0;34m\u001b[0m\u001b[0;34m\u001b[0m\u001b[0m\n",
            "\u001b[0;32m/usr/local/lib/python3.10/dist-packages/IPython/core/formatters.py\u001b[0m in \u001b[0;36m__call__\u001b[0;34m(self, obj)\u001b[0m\n\u001b[1;32m    339\u001b[0m                 \u001b[0mprinter\u001b[0m \u001b[0;34m=\u001b[0m \u001b[0mself\u001b[0m\u001b[0;34m.\u001b[0m\u001b[0mlookup\u001b[0m\u001b[0;34m(\u001b[0m\u001b[0mobj\u001b[0m\u001b[0;34m)\u001b[0m\u001b[0;34m\u001b[0m\u001b[0;34m\u001b[0m\u001b[0m\n\u001b[1;32m    340\u001b[0m             \u001b[0;32mexcept\u001b[0m \u001b[0mKeyError\u001b[0m\u001b[0;34m:\u001b[0m\u001b[0;34m\u001b[0m\u001b[0;34m\u001b[0m\u001b[0m\n\u001b[0;32m--> 341\u001b[0;31m                 \u001b[0;32mpass\u001b[0m\u001b[0;34m\u001b[0m\u001b[0;34m\u001b[0m\u001b[0m\n\u001b[0m\u001b[1;32m    342\u001b[0m             \u001b[0;32melse\u001b[0m\u001b[0;34m:\u001b[0m\u001b[0;34m\u001b[0m\u001b[0;34m\u001b[0m\u001b[0m\n\u001b[1;32m    343\u001b[0m                 \u001b[0;32mreturn\u001b[0m \u001b[0mprinter\u001b[0m\u001b[0;34m(\u001b[0m\u001b[0mobj\u001b[0m\u001b[0;34m)\u001b[0m\u001b[0;34m\u001b[0m\u001b[0;34m\u001b[0m\u001b[0m\n",
            "\u001b[0;32m/usr/local/lib/python3.10/dist-packages/IPython/core/pylabtools.py\u001b[0m in \u001b[0;36mprint_figure\u001b[0;34m(fig, fmt, bbox_inches, base64, **kwargs)\u001b[0m\n\u001b[1;32m    149\u001b[0m     \u001b[0mdpi\u001b[0m \u001b[0;34m=\u001b[0m \u001b[0mfig\u001b[0m\u001b[0;34m.\u001b[0m\u001b[0mdpi\u001b[0m\u001b[0;34m\u001b[0m\u001b[0;34m\u001b[0m\u001b[0m\n\u001b[1;32m    150\u001b[0m     \u001b[0;32mif\u001b[0m \u001b[0mfmt\u001b[0m \u001b[0;34m==\u001b[0m \u001b[0;34m'retina'\u001b[0m\u001b[0;34m:\u001b[0m\u001b[0;34m\u001b[0m\u001b[0;34m\u001b[0m\u001b[0m\n\u001b[0;32m--> 151\u001b[0;31m         \u001b[0mdpi\u001b[0m \u001b[0;34m=\u001b[0m \u001b[0mdpi\u001b[0m \u001b[0;34m*\u001b[0m \u001b[0;36m2\u001b[0m\u001b[0;34m\u001b[0m\u001b[0;34m\u001b[0m\u001b[0m\n\u001b[0m\u001b[1;32m    152\u001b[0m         \u001b[0mfmt\u001b[0m \u001b[0;34m=\u001b[0m \u001b[0;34m'png'\u001b[0m\u001b[0;34m\u001b[0m\u001b[0;34m\u001b[0m\u001b[0m\n\u001b[1;32m    153\u001b[0m \u001b[0;34m\u001b[0m\u001b[0m\n",
            "\u001b[0;32m/usr/local/lib/python3.10/dist-packages/matplotlib/backend_bases.py\u001b[0m in \u001b[0;36mprint_figure\u001b[0;34m(self, filename, dpi, facecolor, edgecolor, orientation, format, bbox_inches, pad_inches, bbox_extra_artists, backend, **kwargs)\u001b[0m\n\u001b[1;32m   2364\u001b[0m                 \u001b[0;31m# force the figure dpi to 72), so we need to set it again here.\u001b[0m\u001b[0;34m\u001b[0m\u001b[0;34m\u001b[0m\u001b[0m\n\u001b[1;32m   2365\u001b[0m                 \u001b[0;32mwith\u001b[0m \u001b[0mcbook\u001b[0m\u001b[0;34m.\u001b[0m\u001b[0m_setattr_cm\u001b[0m\u001b[0;34m(\u001b[0m\u001b[0mself\u001b[0m\u001b[0;34m.\u001b[0m\u001b[0mfigure\u001b[0m\u001b[0;34m,\u001b[0m \u001b[0mdpi\u001b[0m\u001b[0;34m=\u001b[0m\u001b[0mdpi\u001b[0m\u001b[0;34m)\u001b[0m\u001b[0;34m:\u001b[0m\u001b[0;34m\u001b[0m\u001b[0;34m\u001b[0m\u001b[0m\n\u001b[0;32m-> 2366\u001b[0;31m                     result = print_method(\n\u001b[0m\u001b[1;32m   2367\u001b[0m                         \u001b[0mfilename\u001b[0m\u001b[0;34m,\u001b[0m\u001b[0;34m\u001b[0m\u001b[0;34m\u001b[0m\u001b[0m\n\u001b[1;32m   2368\u001b[0m                         \u001b[0mfacecolor\u001b[0m\u001b[0;34m=\u001b[0m\u001b[0mfacecolor\u001b[0m\u001b[0;34m,\u001b[0m\u001b[0;34m\u001b[0m\u001b[0;34m\u001b[0m\u001b[0m\n",
            "\u001b[0;32m/usr/local/lib/python3.10/dist-packages/matplotlib/backend_bases.py\u001b[0m in \u001b[0;36m<lambda>\u001b[0;34m(*args, **kwargs)\u001b[0m\n\u001b[1;32m   2230\u001b[0m                 \"bbox_inches_restore\"}\n\u001b[1;32m   2231\u001b[0m             \u001b[0mskip\u001b[0m \u001b[0;34m=\u001b[0m \u001b[0moptional_kws\u001b[0m \u001b[0;34m-\u001b[0m \u001b[0;34m{\u001b[0m\u001b[0;34m*\u001b[0m\u001b[0minspect\u001b[0m\u001b[0;34m.\u001b[0m\u001b[0msignature\u001b[0m\u001b[0;34m(\u001b[0m\u001b[0mmeth\u001b[0m\u001b[0;34m)\u001b[0m\u001b[0;34m.\u001b[0m\u001b[0mparameters\u001b[0m\u001b[0;34m}\u001b[0m\u001b[0;34m\u001b[0m\u001b[0;34m\u001b[0m\u001b[0m\n\u001b[0;32m-> 2232\u001b[0;31m             print_method = functools.wraps(meth)(lambda *args, **kwargs: meth(\n\u001b[0m\u001b[1;32m   2233\u001b[0m                 *args, **{k: v for k, v in kwargs.items() if k not in skip}))\n\u001b[1;32m   2234\u001b[0m         \u001b[0;32melse\u001b[0m\u001b[0;34m:\u001b[0m  \u001b[0;31m# Let third-parties do as they see fit.\u001b[0m\u001b[0;34m\u001b[0m\u001b[0;34m\u001b[0m\u001b[0m\n",
            "\u001b[0;32m/usr/local/lib/python3.10/dist-packages/matplotlib/backends/backend_agg.py\u001b[0m in \u001b[0;36mprint_png\u001b[0;34m(self, filename_or_obj, metadata, pil_kwargs)\u001b[0m\n\u001b[1;32m    507\u001b[0m             \u001b[0;34m*\u001b[0m\u001b[0mmetadata\u001b[0m\u001b[0;34m*\u001b[0m\u001b[0;34m,\u001b[0m \u001b[0mincluding\u001b[0m \u001b[0mthe\u001b[0m \u001b[0mdefault\u001b[0m \u001b[0;34m'Software'\u001b[0m \u001b[0mkey\u001b[0m\u001b[0;34m.\u001b[0m\u001b[0;34m\u001b[0m\u001b[0;34m\u001b[0m\u001b[0m\n\u001b[1;32m    508\u001b[0m         \"\"\"\n\u001b[0;32m--> 509\u001b[0;31m         \u001b[0mself\u001b[0m\u001b[0;34m.\u001b[0m\u001b[0m_print_pil\u001b[0m\u001b[0;34m(\u001b[0m\u001b[0mfilename_or_obj\u001b[0m\u001b[0;34m,\u001b[0m \u001b[0;34m\"png\"\u001b[0m\u001b[0;34m,\u001b[0m \u001b[0mpil_kwargs\u001b[0m\u001b[0;34m,\u001b[0m \u001b[0mmetadata\u001b[0m\u001b[0;34m)\u001b[0m\u001b[0;34m\u001b[0m\u001b[0;34m\u001b[0m\u001b[0m\n\u001b[0m\u001b[1;32m    510\u001b[0m \u001b[0;34m\u001b[0m\u001b[0m\n\u001b[1;32m    511\u001b[0m     \u001b[0;32mdef\u001b[0m \u001b[0mprint_to_buffer\u001b[0m\u001b[0;34m(\u001b[0m\u001b[0mself\u001b[0m\u001b[0;34m)\u001b[0m\u001b[0;34m:\u001b[0m\u001b[0;34m\u001b[0m\u001b[0;34m\u001b[0m\u001b[0m\n",
            "\u001b[0;32m/usr/local/lib/python3.10/dist-packages/matplotlib/backends/backend_agg.py\u001b[0m in \u001b[0;36m_print_pil\u001b[0;34m(self, filename_or_obj, fmt, pil_kwargs, metadata)\u001b[0m\n\u001b[1;32m    455\u001b[0m         *pil_kwargs* and *metadata* are forwarded).\n\u001b[1;32m    456\u001b[0m         \"\"\"\n\u001b[0;32m--> 457\u001b[0;31m         \u001b[0mFigureCanvasAgg\u001b[0m\u001b[0;34m.\u001b[0m\u001b[0mdraw\u001b[0m\u001b[0;34m(\u001b[0m\u001b[0mself\u001b[0m\u001b[0;34m)\u001b[0m\u001b[0;34m\u001b[0m\u001b[0;34m\u001b[0m\u001b[0m\n\u001b[0m\u001b[1;32m    458\u001b[0m         mpl.image.imsave(\n\u001b[1;32m    459\u001b[0m             \u001b[0mfilename_or_obj\u001b[0m\u001b[0;34m,\u001b[0m \u001b[0mself\u001b[0m\u001b[0;34m.\u001b[0m\u001b[0mbuffer_rgba\u001b[0m\u001b[0;34m(\u001b[0m\u001b[0;34m)\u001b[0m\u001b[0;34m,\u001b[0m \u001b[0mformat\u001b[0m\u001b[0;34m=\u001b[0m\u001b[0mfmt\u001b[0m\u001b[0;34m,\u001b[0m \u001b[0morigin\u001b[0m\u001b[0;34m=\u001b[0m\u001b[0;34m\"upper\"\u001b[0m\u001b[0;34m,\u001b[0m\u001b[0;34m\u001b[0m\u001b[0;34m\u001b[0m\u001b[0m\n",
            "\u001b[0;32m/usr/local/lib/python3.10/dist-packages/matplotlib/backends/backend_agg.py\u001b[0m in \u001b[0;36mdraw\u001b[0;34m(self)\u001b[0m\n\u001b[1;32m    398\u001b[0m              (self.toolbar._wait_cursor_for_draw_cm() if self.toolbar\n\u001b[1;32m    399\u001b[0m               else nullcontext()):\n\u001b[0;32m--> 400\u001b[0;31m             \u001b[0mself\u001b[0m\u001b[0;34m.\u001b[0m\u001b[0mfigure\u001b[0m\u001b[0;34m.\u001b[0m\u001b[0mdraw\u001b[0m\u001b[0;34m(\u001b[0m\u001b[0mself\u001b[0m\u001b[0;34m.\u001b[0m\u001b[0mrenderer\u001b[0m\u001b[0;34m)\u001b[0m\u001b[0;34m\u001b[0m\u001b[0;34m\u001b[0m\u001b[0m\n\u001b[0m\u001b[1;32m    401\u001b[0m             \u001b[0;31m# A GUI class may be need to update a window using this draw, so\u001b[0m\u001b[0;34m\u001b[0m\u001b[0;34m\u001b[0m\u001b[0m\n\u001b[1;32m    402\u001b[0m             \u001b[0;31m# don't forget to call the superclass.\u001b[0m\u001b[0;34m\u001b[0m\u001b[0;34m\u001b[0m\u001b[0m\n",
            "\u001b[0;32m/usr/local/lib/python3.10/dist-packages/matplotlib/artist.py\u001b[0m in \u001b[0;36mdraw_wrapper\u001b[0;34m(artist, renderer, *args, **kwargs)\u001b[0m\n\u001b[1;32m     93\u001b[0m     \u001b[0;34m@\u001b[0m\u001b[0mwraps\u001b[0m\u001b[0;34m(\u001b[0m\u001b[0mdraw\u001b[0m\u001b[0;34m)\u001b[0m\u001b[0;34m\u001b[0m\u001b[0;34m\u001b[0m\u001b[0m\n\u001b[1;32m     94\u001b[0m     \u001b[0;32mdef\u001b[0m \u001b[0mdraw_wrapper\u001b[0m\u001b[0;34m(\u001b[0m\u001b[0martist\u001b[0m\u001b[0;34m,\u001b[0m \u001b[0mrenderer\u001b[0m\u001b[0;34m,\u001b[0m \u001b[0;34m*\u001b[0m\u001b[0margs\u001b[0m\u001b[0;34m,\u001b[0m \u001b[0;34m**\u001b[0m\u001b[0mkwargs\u001b[0m\u001b[0;34m)\u001b[0m\u001b[0;34m:\u001b[0m\u001b[0;34m\u001b[0m\u001b[0;34m\u001b[0m\u001b[0m\n\u001b[0;32m---> 95\u001b[0;31m         \u001b[0mresult\u001b[0m \u001b[0;34m=\u001b[0m \u001b[0mdraw\u001b[0m\u001b[0;34m(\u001b[0m\u001b[0martist\u001b[0m\u001b[0;34m,\u001b[0m \u001b[0mrenderer\u001b[0m\u001b[0;34m,\u001b[0m \u001b[0;34m*\u001b[0m\u001b[0margs\u001b[0m\u001b[0;34m,\u001b[0m \u001b[0;34m**\u001b[0m\u001b[0mkwargs\u001b[0m\u001b[0;34m)\u001b[0m\u001b[0;34m\u001b[0m\u001b[0;34m\u001b[0m\u001b[0m\n\u001b[0m\u001b[1;32m     96\u001b[0m         \u001b[0;32mif\u001b[0m \u001b[0mrenderer\u001b[0m\u001b[0;34m.\u001b[0m\u001b[0m_rasterizing\u001b[0m\u001b[0;34m:\u001b[0m\u001b[0;34m\u001b[0m\u001b[0;34m\u001b[0m\u001b[0m\n\u001b[1;32m     97\u001b[0m             \u001b[0mrenderer\u001b[0m\u001b[0;34m.\u001b[0m\u001b[0mstop_rasterizing\u001b[0m\u001b[0;34m(\u001b[0m\u001b[0;34m)\u001b[0m\u001b[0;34m\u001b[0m\u001b[0;34m\u001b[0m\u001b[0m\n",
            "\u001b[0;32m/usr/local/lib/python3.10/dist-packages/matplotlib/artist.py\u001b[0m in \u001b[0;36mdraw_wrapper\u001b[0;34m(artist, renderer)\u001b[0m\n\u001b[1;32m     70\u001b[0m                 \u001b[0mrenderer\u001b[0m\u001b[0;34m.\u001b[0m\u001b[0mstart_filter\u001b[0m\u001b[0;34m(\u001b[0m\u001b[0;34m)\u001b[0m\u001b[0;34m\u001b[0m\u001b[0;34m\u001b[0m\u001b[0m\n\u001b[1;32m     71\u001b[0m \u001b[0;34m\u001b[0m\u001b[0m\n\u001b[0;32m---> 72\u001b[0;31m             \u001b[0;32mreturn\u001b[0m \u001b[0mdraw\u001b[0m\u001b[0;34m(\u001b[0m\u001b[0martist\u001b[0m\u001b[0;34m,\u001b[0m \u001b[0mrenderer\u001b[0m\u001b[0;34m)\u001b[0m\u001b[0;34m\u001b[0m\u001b[0;34m\u001b[0m\u001b[0m\n\u001b[0m\u001b[1;32m     73\u001b[0m         \u001b[0;32mfinally\u001b[0m\u001b[0;34m:\u001b[0m\u001b[0;34m\u001b[0m\u001b[0;34m\u001b[0m\u001b[0m\n\u001b[1;32m     74\u001b[0m             \u001b[0;32mif\u001b[0m \u001b[0martist\u001b[0m\u001b[0;34m.\u001b[0m\u001b[0mget_agg_filter\u001b[0m\u001b[0;34m(\u001b[0m\u001b[0;34m)\u001b[0m \u001b[0;32mis\u001b[0m \u001b[0;32mnot\u001b[0m \u001b[0;32mNone\u001b[0m\u001b[0;34m:\u001b[0m\u001b[0;34m\u001b[0m\u001b[0;34m\u001b[0m\u001b[0m\n",
            "\u001b[0;32m/usr/local/lib/python3.10/dist-packages/matplotlib/figure.py\u001b[0m in \u001b[0;36mdraw\u001b[0;34m(self, renderer)\u001b[0m\n\u001b[1;32m   3138\u001b[0m \u001b[0;34m\u001b[0m\u001b[0m\n\u001b[1;32m   3139\u001b[0m             \u001b[0mself\u001b[0m\u001b[0;34m.\u001b[0m\u001b[0mpatch\u001b[0m\u001b[0;34m.\u001b[0m\u001b[0mdraw\u001b[0m\u001b[0;34m(\u001b[0m\u001b[0mrenderer\u001b[0m\u001b[0;34m)\u001b[0m\u001b[0;34m\u001b[0m\u001b[0;34m\u001b[0m\u001b[0m\n\u001b[0;32m-> 3140\u001b[0;31m             mimage._draw_list_compositing_images(\n\u001b[0m\u001b[1;32m   3141\u001b[0m                 renderer, self, artists, self.suppressComposite)\n\u001b[1;32m   3142\u001b[0m \u001b[0;34m\u001b[0m\u001b[0m\n",
            "\u001b[0;32m/usr/local/lib/python3.10/dist-packages/matplotlib/image.py\u001b[0m in \u001b[0;36m_draw_list_compositing_images\u001b[0;34m(renderer, parent, artists, suppress_composite)\u001b[0m\n\u001b[1;32m    129\u001b[0m     \u001b[0;32mif\u001b[0m \u001b[0mnot_composite\u001b[0m \u001b[0;32mor\u001b[0m \u001b[0;32mnot\u001b[0m \u001b[0mhas_images\u001b[0m\u001b[0;34m:\u001b[0m\u001b[0;34m\u001b[0m\u001b[0;34m\u001b[0m\u001b[0m\n\u001b[1;32m    130\u001b[0m         \u001b[0;32mfor\u001b[0m \u001b[0ma\u001b[0m \u001b[0;32min\u001b[0m \u001b[0martists\u001b[0m\u001b[0;34m:\u001b[0m\u001b[0;34m\u001b[0m\u001b[0;34m\u001b[0m\u001b[0m\n\u001b[0;32m--> 131\u001b[0;31m             \u001b[0ma\u001b[0m\u001b[0;34m.\u001b[0m\u001b[0mdraw\u001b[0m\u001b[0;34m(\u001b[0m\u001b[0mrenderer\u001b[0m\u001b[0;34m)\u001b[0m\u001b[0;34m\u001b[0m\u001b[0;34m\u001b[0m\u001b[0m\n\u001b[0m\u001b[1;32m    132\u001b[0m     \u001b[0;32melse\u001b[0m\u001b[0;34m:\u001b[0m\u001b[0;34m\u001b[0m\u001b[0;34m\u001b[0m\u001b[0m\n\u001b[1;32m    133\u001b[0m         \u001b[0;31m# Composite any adjacent images together\u001b[0m\u001b[0;34m\u001b[0m\u001b[0;34m\u001b[0m\u001b[0m\n",
            "\u001b[0;32m/usr/local/lib/python3.10/dist-packages/matplotlib/artist.py\u001b[0m in \u001b[0;36mdraw_wrapper\u001b[0;34m(artist, renderer)\u001b[0m\n\u001b[1;32m     70\u001b[0m                 \u001b[0mrenderer\u001b[0m\u001b[0;34m.\u001b[0m\u001b[0mstart_filter\u001b[0m\u001b[0;34m(\u001b[0m\u001b[0;34m)\u001b[0m\u001b[0;34m\u001b[0m\u001b[0;34m\u001b[0m\u001b[0m\n\u001b[1;32m     71\u001b[0m \u001b[0;34m\u001b[0m\u001b[0m\n\u001b[0;32m---> 72\u001b[0;31m             \u001b[0;32mreturn\u001b[0m \u001b[0mdraw\u001b[0m\u001b[0;34m(\u001b[0m\u001b[0martist\u001b[0m\u001b[0;34m,\u001b[0m \u001b[0mrenderer\u001b[0m\u001b[0;34m)\u001b[0m\u001b[0;34m\u001b[0m\u001b[0;34m\u001b[0m\u001b[0m\n\u001b[0m\u001b[1;32m     73\u001b[0m         \u001b[0;32mfinally\u001b[0m\u001b[0;34m:\u001b[0m\u001b[0;34m\u001b[0m\u001b[0;34m\u001b[0m\u001b[0m\n\u001b[1;32m     74\u001b[0m             \u001b[0;32mif\u001b[0m \u001b[0martist\u001b[0m\u001b[0;34m.\u001b[0m\u001b[0mget_agg_filter\u001b[0m\u001b[0;34m(\u001b[0m\u001b[0;34m)\u001b[0m \u001b[0;32mis\u001b[0m \u001b[0;32mnot\u001b[0m \u001b[0;32mNone\u001b[0m\u001b[0;34m:\u001b[0m\u001b[0;34m\u001b[0m\u001b[0;34m\u001b[0m\u001b[0m\n",
            "\u001b[0;32m/usr/local/lib/python3.10/dist-packages/matplotlib/axes/_base.py\u001b[0m in \u001b[0;36mdraw\u001b[0;34m(self, renderer)\u001b[0m\n\u001b[1;32m   3062\u001b[0m             \u001b[0m_draw_rasterized\u001b[0m\u001b[0;34m(\u001b[0m\u001b[0mself\u001b[0m\u001b[0;34m.\u001b[0m\u001b[0mfigure\u001b[0m\u001b[0;34m,\u001b[0m \u001b[0martists_rasterized\u001b[0m\u001b[0;34m,\u001b[0m \u001b[0mrenderer\u001b[0m\u001b[0;34m)\u001b[0m\u001b[0;34m\u001b[0m\u001b[0;34m\u001b[0m\u001b[0m\n\u001b[1;32m   3063\u001b[0m \u001b[0;34m\u001b[0m\u001b[0m\n\u001b[0;32m-> 3064\u001b[0;31m         mimage._draw_list_compositing_images(\n\u001b[0m\u001b[1;32m   3065\u001b[0m             renderer, self, artists, self.figure.suppressComposite)\n\u001b[1;32m   3066\u001b[0m \u001b[0;34m\u001b[0m\u001b[0m\n",
            "\u001b[0;32m/usr/local/lib/python3.10/dist-packages/matplotlib/image.py\u001b[0m in \u001b[0;36m_draw_list_compositing_images\u001b[0;34m(renderer, parent, artists, suppress_composite)\u001b[0m\n\u001b[1;32m    129\u001b[0m     \u001b[0;32mif\u001b[0m \u001b[0mnot_composite\u001b[0m \u001b[0;32mor\u001b[0m \u001b[0;32mnot\u001b[0m \u001b[0mhas_images\u001b[0m\u001b[0;34m:\u001b[0m\u001b[0;34m\u001b[0m\u001b[0;34m\u001b[0m\u001b[0m\n\u001b[1;32m    130\u001b[0m         \u001b[0;32mfor\u001b[0m \u001b[0ma\u001b[0m \u001b[0;32min\u001b[0m \u001b[0martists\u001b[0m\u001b[0;34m:\u001b[0m\u001b[0;34m\u001b[0m\u001b[0;34m\u001b[0m\u001b[0m\n\u001b[0;32m--> 131\u001b[0;31m             \u001b[0ma\u001b[0m\u001b[0;34m.\u001b[0m\u001b[0mdraw\u001b[0m\u001b[0;34m(\u001b[0m\u001b[0mrenderer\u001b[0m\u001b[0;34m)\u001b[0m\u001b[0;34m\u001b[0m\u001b[0;34m\u001b[0m\u001b[0m\n\u001b[0m\u001b[1;32m    132\u001b[0m     \u001b[0;32melse\u001b[0m\u001b[0;34m:\u001b[0m\u001b[0;34m\u001b[0m\u001b[0;34m\u001b[0m\u001b[0m\n\u001b[1;32m    133\u001b[0m         \u001b[0;31m# Composite any adjacent images together\u001b[0m\u001b[0;34m\u001b[0m\u001b[0;34m\u001b[0m\u001b[0m\n",
            "\u001b[0;32m/usr/local/lib/python3.10/dist-packages/matplotlib/artist.py\u001b[0m in \u001b[0;36mdraw_wrapper\u001b[0;34m(artist, renderer)\u001b[0m\n\u001b[1;32m     70\u001b[0m                 \u001b[0mrenderer\u001b[0m\u001b[0;34m.\u001b[0m\u001b[0mstart_filter\u001b[0m\u001b[0;34m(\u001b[0m\u001b[0;34m)\u001b[0m\u001b[0;34m\u001b[0m\u001b[0;34m\u001b[0m\u001b[0m\n\u001b[1;32m     71\u001b[0m \u001b[0;34m\u001b[0m\u001b[0m\n\u001b[0;32m---> 72\u001b[0;31m             \u001b[0;32mreturn\u001b[0m \u001b[0mdraw\u001b[0m\u001b[0;34m(\u001b[0m\u001b[0martist\u001b[0m\u001b[0;34m,\u001b[0m \u001b[0mrenderer\u001b[0m\u001b[0;34m)\u001b[0m\u001b[0;34m\u001b[0m\u001b[0;34m\u001b[0m\u001b[0m\n\u001b[0m\u001b[1;32m     73\u001b[0m         \u001b[0;32mfinally\u001b[0m\u001b[0;34m:\u001b[0m\u001b[0;34m\u001b[0m\u001b[0;34m\u001b[0m\u001b[0m\n\u001b[1;32m     74\u001b[0m             \u001b[0;32mif\u001b[0m \u001b[0martist\u001b[0m\u001b[0;34m.\u001b[0m\u001b[0mget_agg_filter\u001b[0m\u001b[0;34m(\u001b[0m\u001b[0;34m)\u001b[0m \u001b[0;32mis\u001b[0m \u001b[0;32mnot\u001b[0m \u001b[0;32mNone\u001b[0m\u001b[0;34m:\u001b[0m\u001b[0;34m\u001b[0m\u001b[0;34m\u001b[0m\u001b[0m\n",
            "\u001b[0;32m/usr/local/lib/python3.10/dist-packages/matplotlib/collections.py\u001b[0m in \u001b[0;36mdraw\u001b[0;34m(self, renderer)\u001b[0m\n\u001b[1;32m    970\u001b[0m     \u001b[0;32mdef\u001b[0m \u001b[0mdraw\u001b[0m\u001b[0;34m(\u001b[0m\u001b[0mself\u001b[0m\u001b[0;34m,\u001b[0m \u001b[0mrenderer\u001b[0m\u001b[0;34m)\u001b[0m\u001b[0;34m:\u001b[0m\u001b[0;34m\u001b[0m\u001b[0;34m\u001b[0m\u001b[0m\n\u001b[1;32m    971\u001b[0m         \u001b[0mself\u001b[0m\u001b[0;34m.\u001b[0m\u001b[0mset_sizes\u001b[0m\u001b[0;34m(\u001b[0m\u001b[0mself\u001b[0m\u001b[0;34m.\u001b[0m\u001b[0m_sizes\u001b[0m\u001b[0;34m,\u001b[0m \u001b[0mself\u001b[0m\u001b[0;34m.\u001b[0m\u001b[0mfigure\u001b[0m\u001b[0;34m.\u001b[0m\u001b[0mdpi\u001b[0m\u001b[0;34m)\u001b[0m\u001b[0;34m\u001b[0m\u001b[0;34m\u001b[0m\u001b[0m\n\u001b[0;32m--> 972\u001b[0;31m         \u001b[0msuper\u001b[0m\u001b[0;34m(\u001b[0m\u001b[0;34m)\u001b[0m\u001b[0;34m.\u001b[0m\u001b[0mdraw\u001b[0m\u001b[0;34m(\u001b[0m\u001b[0mrenderer\u001b[0m\u001b[0;34m)\u001b[0m\u001b[0;34m\u001b[0m\u001b[0;34m\u001b[0m\u001b[0m\n\u001b[0m\u001b[1;32m    973\u001b[0m \u001b[0;34m\u001b[0m\u001b[0m\n\u001b[1;32m    974\u001b[0m \u001b[0;34m\u001b[0m\u001b[0m\n",
            "\u001b[0;32m/usr/local/lib/python3.10/dist-packages/matplotlib/artist.py\u001b[0m in \u001b[0;36mdraw_wrapper\u001b[0;34m(artist, renderer)\u001b[0m\n\u001b[1;32m     70\u001b[0m                 \u001b[0mrenderer\u001b[0m\u001b[0;34m.\u001b[0m\u001b[0mstart_filter\u001b[0m\u001b[0;34m(\u001b[0m\u001b[0;34m)\u001b[0m\u001b[0;34m\u001b[0m\u001b[0;34m\u001b[0m\u001b[0m\n\u001b[1;32m     71\u001b[0m \u001b[0;34m\u001b[0m\u001b[0m\n\u001b[0;32m---> 72\u001b[0;31m             \u001b[0;32mreturn\u001b[0m \u001b[0mdraw\u001b[0m\u001b[0;34m(\u001b[0m\u001b[0martist\u001b[0m\u001b[0;34m,\u001b[0m \u001b[0mrenderer\u001b[0m\u001b[0;34m)\u001b[0m\u001b[0;34m\u001b[0m\u001b[0;34m\u001b[0m\u001b[0m\n\u001b[0m\u001b[1;32m     73\u001b[0m         \u001b[0;32mfinally\u001b[0m\u001b[0;34m:\u001b[0m\u001b[0;34m\u001b[0m\u001b[0;34m\u001b[0m\u001b[0m\n\u001b[1;32m     74\u001b[0m             \u001b[0;32mif\u001b[0m \u001b[0martist\u001b[0m\u001b[0;34m.\u001b[0m\u001b[0mget_agg_filter\u001b[0m\u001b[0;34m(\u001b[0m\u001b[0;34m)\u001b[0m \u001b[0;32mis\u001b[0m \u001b[0;32mnot\u001b[0m \u001b[0;32mNone\u001b[0m\u001b[0;34m:\u001b[0m\u001b[0;34m\u001b[0m\u001b[0;34m\u001b[0m\u001b[0m\n",
            "\u001b[0;32m/usr/local/lib/python3.10/dist-packages/matplotlib/collections.py\u001b[0m in \u001b[0;36mdraw\u001b[0;34m(self, renderer)\u001b[0m\n\u001b[1;32m    407\u001b[0m                 mpath.Path(offsets), offset_trf, tuple(facecolors[0]))\n\u001b[1;32m    408\u001b[0m         \u001b[0;32melse\u001b[0m\u001b[0;34m:\u001b[0m\u001b[0;34m\u001b[0m\u001b[0;34m\u001b[0m\u001b[0m\n\u001b[0;32m--> 409\u001b[0;31m             renderer.draw_path_collection(\n\u001b[0m\u001b[1;32m    410\u001b[0m                 \u001b[0mgc\u001b[0m\u001b[0;34m,\u001b[0m \u001b[0mtransform\u001b[0m\u001b[0;34m.\u001b[0m\u001b[0mfrozen\u001b[0m\u001b[0;34m(\u001b[0m\u001b[0;34m)\u001b[0m\u001b[0;34m,\u001b[0m \u001b[0mpaths\u001b[0m\u001b[0;34m,\u001b[0m\u001b[0;34m\u001b[0m\u001b[0;34m\u001b[0m\u001b[0m\n\u001b[1;32m    411\u001b[0m                 \u001b[0mself\u001b[0m\u001b[0;34m.\u001b[0m\u001b[0mget_transforms\u001b[0m\u001b[0;34m(\u001b[0m\u001b[0;34m)\u001b[0m\u001b[0;34m,\u001b[0m \u001b[0moffsets\u001b[0m\u001b[0;34m,\u001b[0m \u001b[0moffset_trf\u001b[0m\u001b[0;34m,\u001b[0m\u001b[0;34m\u001b[0m\u001b[0;34m\u001b[0m\u001b[0m\n",
            "\u001b[0;32m/usr/local/lib/python3.10/dist-packages/matplotlib/path.py\u001b[0m in \u001b[0;36mcodes\u001b[0;34m(self)\u001b[0m\n\u001b[1;32m    223\u001b[0m         \u001b[0mself\u001b[0m\u001b[0;34m.\u001b[0m\u001b[0m_update_values\u001b[0m\u001b[0;34m(\u001b[0m\u001b[0;34m)\u001b[0m\u001b[0;34m\u001b[0m\u001b[0;34m\u001b[0m\u001b[0m\n\u001b[1;32m    224\u001b[0m \u001b[0;34m\u001b[0m\u001b[0m\n\u001b[0;32m--> 225\u001b[0;31m     \u001b[0;34m@\u001b[0m\u001b[0mproperty\u001b[0m\u001b[0;34m\u001b[0m\u001b[0;34m\u001b[0m\u001b[0m\n\u001b[0m\u001b[1;32m    226\u001b[0m     \u001b[0;32mdef\u001b[0m \u001b[0mcodes\u001b[0m\u001b[0;34m(\u001b[0m\u001b[0mself\u001b[0m\u001b[0;34m)\u001b[0m\u001b[0;34m:\u001b[0m\u001b[0;34m\u001b[0m\u001b[0;34m\u001b[0m\u001b[0m\n\u001b[1;32m    227\u001b[0m         \"\"\"\n",
            "\u001b[0;31mKeyboardInterrupt\u001b[0m: "
          ]
        }
      ]
    },
    {
      "cell_type": "markdown",
      "source": [
        "Y lo plasmamos de otra forma:"
      ],
      "metadata": {
        "id": "mMgLIWphT8KF"
      }
    },
    {
      "cell_type": "code",
      "source": [
        "# Gráfico de two-key plot\n",
        "plt.figure(figsize=(8, 6))\n",
        "sns.scatterplot(x='support', y='lift', size='confidence', hue='confidence', data=rules, sizes=(10, 200), palette='coolwarm', legend=False)\n",
        "plt.title(\"Two-key plot\")\n",
        "plt.show()"
      ],
      "metadata": {
        "id": "Yey70g3qT8i8"
      },
      "execution_count": null,
      "outputs": []
    }
  ]
}